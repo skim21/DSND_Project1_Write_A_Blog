{
 "cells": [
  {
   "cell_type": "markdown",
   "metadata": {},
   "source": [
    "# 2017 StackOverflow survey data"
   ]
  },
  {
   "cell_type": "markdown",
   "metadata": {},
   "source": [
    "This file will explore the 2017 StackOverflow survey data. We will walk through the following 3 questions and find the answers by looking at the date.  \n",
    "\n",
    "Q1. Find the correlation between highset level of formal education and the company size the correnpondent work for.<br>\n",
    "Q2. Let's find out if it is true that the longer a person has worked for as a programmer, the more satisfied the person could be.<br>\n",
    "Q3. What makes people satisfied with their job?"
   ]
  },
  {
   "cell_type": "code",
   "execution_count": 113,
   "metadata": {},
   "outputs": [],
   "source": [
    "import pandas as pd\n",
    "import numpy as np\n",
    "import os\n",
    "from collections import OrderedDict, defaultdict"
   ]
  },
  {
   "cell_type": "markdown",
   "metadata": {},
   "source": [
    "Create a Jupyter Notebook, using any associated packages you'd like, to:\n",
    "\n",
    "Prepare data:\n",
    "\n",
    "- Gather necessary data to answer your questions<br>\n",
    "- Handle categorical and missing data<br>\n",
    "- Provide insight into the methods you chose and why you chose them\n",
    "\n",
    "Analyze, Model, and Visualize:\n",
    "\n",
    "- Provide a clear connection between your business questions and how the data answers them."
   ]
  },
  {
   "cell_type": "code",
   "execution_count": 114,
   "metadata": {},
   "outputs": [
    {
     "data": {
      "text/plain": [
       "['.ipynb_checkpoints',\n",
       " 'survey_results_public.csv',\n",
       " 'survey_results_schema.csv',\n",
       " 'Untitled.ipynb']"
      ]
     },
     "execution_count": 114,
     "metadata": {},
     "output_type": "execute_result"
    }
   ],
   "source": [
    "os.listdir()"
   ]
  },
  {
   "cell_type": "code",
   "execution_count": 115,
   "metadata": {},
   "outputs": [],
   "source": [
    "df = pd.read_csv('survey_results_public.csv')\n",
    "df_schema = pd.read_csv('survey_results_schema.csv')"
   ]
  },
  {
   "cell_type": "code",
   "execution_count": 116,
   "metadata": {},
   "outputs": [
    {
     "data": {
      "text/plain": [
       "Index(['Respondent', 'Professional', 'ProgramHobby', 'Country', 'University',\n",
       "       'EmploymentStatus', 'FormalEducation', 'MajorUndergrad', 'HomeRemote',\n",
       "       'CompanySize',\n",
       "       ...\n",
       "       'StackOverflowMakeMoney', 'Gender', 'HighestEducationParents', 'Race',\n",
       "       'SurveyLong', 'QuestionsInteresting', 'QuestionsConfusing',\n",
       "       'InterestedAnswers', 'Salary', 'ExpectedSalary'],\n",
       "      dtype='object', length=154)"
      ]
     },
     "execution_count": 116,
     "metadata": {},
     "output_type": "execute_result"
    }
   ],
   "source": [
    "df.columns"
   ]
  },
  {
   "cell_type": "code",
   "execution_count": 117,
   "metadata": {},
   "outputs": [
    {
     "data": {
      "text/html": [
       "<div>\n",
       "<style scoped>\n",
       "    .dataframe tbody tr th:only-of-type {\n",
       "        vertical-align: middle;\n",
       "    }\n",
       "\n",
       "    .dataframe tbody tr th {\n",
       "        vertical-align: top;\n",
       "    }\n",
       "\n",
       "    .dataframe thead th {\n",
       "        text-align: right;\n",
       "    }\n",
       "</style>\n",
       "<table border=\"1\" class=\"dataframe\">\n",
       "  <thead>\n",
       "    <tr style=\"text-align: right;\">\n",
       "      <th></th>\n",
       "      <th>Column</th>\n",
       "      <th>Question</th>\n",
       "    </tr>\n",
       "  </thead>\n",
       "  <tbody>\n",
       "    <tr>\n",
       "      <th>0</th>\n",
       "      <td>Respondent</td>\n",
       "      <td>Respondent ID number</td>\n",
       "    </tr>\n",
       "    <tr>\n",
       "      <th>1</th>\n",
       "      <td>Professional</td>\n",
       "      <td>Which of the following best describes you?</td>\n",
       "    </tr>\n",
       "    <tr>\n",
       "      <th>2</th>\n",
       "      <td>ProgramHobby</td>\n",
       "      <td>Do you program as a hobby or contribute to ope...</td>\n",
       "    </tr>\n",
       "    <tr>\n",
       "      <th>3</th>\n",
       "      <td>Country</td>\n",
       "      <td>In which country do you currently live?</td>\n",
       "    </tr>\n",
       "    <tr>\n",
       "      <th>4</th>\n",
       "      <td>University</td>\n",
       "      <td>Are you currently enrolled in a formal, degree...</td>\n",
       "    </tr>\n",
       "    <tr>\n",
       "      <th>...</th>\n",
       "      <td>...</td>\n",
       "      <td>...</td>\n",
       "    </tr>\n",
       "    <tr>\n",
       "      <th>149</th>\n",
       "      <td>QuestionsInteresting</td>\n",
       "      <td>The questions were interesting</td>\n",
       "    </tr>\n",
       "    <tr>\n",
       "      <th>150</th>\n",
       "      <td>QuestionsConfusing</td>\n",
       "      <td>The questions were confusing</td>\n",
       "    </tr>\n",
       "    <tr>\n",
       "      <th>151</th>\n",
       "      <td>InterestedAnswers</td>\n",
       "      <td>I'm interested in learning how other developer...</td>\n",
       "    </tr>\n",
       "    <tr>\n",
       "      <th>152</th>\n",
       "      <td>Salary</td>\n",
       "      <td>What is your current annual base salary, befor...</td>\n",
       "    </tr>\n",
       "    <tr>\n",
       "      <th>153</th>\n",
       "      <td>ExpectedSalary</td>\n",
       "      <td>You said before that you are currently learnin...</td>\n",
       "    </tr>\n",
       "  </tbody>\n",
       "</table>\n",
       "<p>154 rows × 2 columns</p>\n",
       "</div>"
      ],
      "text/plain": [
       "                   Column                                           Question\n",
       "0              Respondent                               Respondent ID number\n",
       "1            Professional         Which of the following best describes you?\n",
       "2            ProgramHobby  Do you program as a hobby or contribute to ope...\n",
       "3                 Country            In which country do you currently live?\n",
       "4              University  Are you currently enrolled in a formal, degree...\n",
       "..                    ...                                                ...\n",
       "149  QuestionsInteresting                     The questions were interesting\n",
       "150    QuestionsConfusing                       The questions were confusing\n",
       "151     InterestedAnswers  I'm interested in learning how other developer...\n",
       "152                Salary  What is your current annual base salary, befor...\n",
       "153        ExpectedSalary  You said before that you are currently learnin...\n",
       "\n",
       "[154 rows x 2 columns]"
      ]
     },
     "execution_count": 117,
     "metadata": {},
     "output_type": "execute_result"
    }
   ],
   "source": [
    "df_schema"
   ]
  },
  {
   "cell_type": "markdown",
   "metadata": {},
   "source": [
    "### Q1. Find the correlation between highset level of formal education and the company size the correnpondent work for.\n",
    "\n",
    "Try the words of interest to answer the question 1."
   ]
  },
  {
   "cell_type": "code",
   "execution_count": 118,
   "metadata": {},
   "outputs": [],
   "source": [
    "def get_relevant_questions(words_of_interest):\n",
    "    df_q_set = pd.DataFrame(columns=df_schema.columns)\n",
    "    for word in words_of_interest:\n",
    "        q_set = df_schema[df_schema.Question.str.contains(word)]\n",
    "        df_q_set = df_q_set.append(q_set, ignore_index=True)\n",
    "    df_q_set.drop_duplicates(ignore_index=True, inplace=True)\n",
    "    return df_q_set.index, df_q_set"
   ]
  },
  {
   "cell_type": "code",
   "execution_count": 119,
   "metadata": {},
   "outputs": [
    {
     "data": {
      "text/html": [
       "<div>\n",
       "<style scoped>\n",
       "    .dataframe tbody tr th:only-of-type {\n",
       "        vertical-align: middle;\n",
       "    }\n",
       "\n",
       "    .dataframe tbody tr th {\n",
       "        vertical-align: top;\n",
       "    }\n",
       "\n",
       "    .dataframe thead th {\n",
       "        text-align: right;\n",
       "    }\n",
       "</style>\n",
       "<table border=\"1\" class=\"dataframe\">\n",
       "  <thead>\n",
       "    <tr style=\"text-align: right;\">\n",
       "      <th></th>\n",
       "      <th>Column</th>\n",
       "      <th>Question</th>\n",
       "    </tr>\n",
       "  </thead>\n",
       "  <tbody>\n",
       "    <tr>\n",
       "      <th>0</th>\n",
       "      <td>University</td>\n",
       "      <td>Are you currently enrolled in a formal, degree...</td>\n",
       "    </tr>\n",
       "    <tr>\n",
       "      <th>1</th>\n",
       "      <td>FormalEducation</td>\n",
       "      <td>Which of the following best describes the high...</td>\n",
       "    </tr>\n",
       "    <tr>\n",
       "      <th>2</th>\n",
       "      <td>EducationImportant</td>\n",
       "      <td>Overall, how important has your formal schooli...</td>\n",
       "    </tr>\n",
       "    <tr>\n",
       "      <th>3</th>\n",
       "      <td>EducationTypes</td>\n",
       "      <td>Outside of your formal schooling and education...</td>\n",
       "    </tr>\n",
       "    <tr>\n",
       "      <th>4</th>\n",
       "      <td>HighestEducationParents</td>\n",
       "      <td>What is the highest level of education receive...</td>\n",
       "    </tr>\n",
       "    <tr>\n",
       "      <th>5</th>\n",
       "      <td>CompanySize</td>\n",
       "      <td>In terms of the number of employees, how large...</td>\n",
       "    </tr>\n",
       "    <tr>\n",
       "      <th>6</th>\n",
       "      <td>CompanyType</td>\n",
       "      <td>Which of the following best describes the type...</td>\n",
       "    </tr>\n",
       "    <tr>\n",
       "      <th>7</th>\n",
       "      <td>AssessJobProjects</td>\n",
       "      <td>When you're assessing potential jobs to apply ...</td>\n",
       "    </tr>\n",
       "    <tr>\n",
       "      <th>8</th>\n",
       "      <td>AssessJobLeaders</td>\n",
       "      <td>When you're assessing potential jobs to apply ...</td>\n",
       "    </tr>\n",
       "    <tr>\n",
       "      <th>9</th>\n",
       "      <td>AssessJobDiversity</td>\n",
       "      <td>When you're assessing potential jobs to apply ...</td>\n",
       "    </tr>\n",
       "    <tr>\n",
       "      <th>10</th>\n",
       "      <td>AssessJobFinances</td>\n",
       "      <td>When you're assessing potential jobs to apply ...</td>\n",
       "    </tr>\n",
       "    <tr>\n",
       "      <th>11</th>\n",
       "      <td>InfluenceHardware</td>\n",
       "      <td>How much influence do you have on purchasing d...</td>\n",
       "    </tr>\n",
       "    <tr>\n",
       "      <th>12</th>\n",
       "      <td>InfluenceTechStack</td>\n",
       "      <td>How much influence do you have on purchasing d...</td>\n",
       "    </tr>\n",
       "    <tr>\n",
       "      <th>13</th>\n",
       "      <td>StackOverflowCompanyPage</td>\n",
       "      <td>Over the last three months, approximately how ...</td>\n",
       "    </tr>\n",
       "    <tr>\n",
       "      <th>14</th>\n",
       "      <td>EquipmentSatisfiedMonitors</td>\n",
       "      <td>Thinking about your main coding workstation, h...</td>\n",
       "    </tr>\n",
       "  </tbody>\n",
       "</table>\n",
       "</div>"
      ],
      "text/plain": [
       "                        Column  \\\n",
       "0                   University   \n",
       "1              FormalEducation   \n",
       "2           EducationImportant   \n",
       "3               EducationTypes   \n",
       "4      HighestEducationParents   \n",
       "5                  CompanySize   \n",
       "6                  CompanyType   \n",
       "7            AssessJobProjects   \n",
       "8             AssessJobLeaders   \n",
       "9           AssessJobDiversity   \n",
       "10           AssessJobFinances   \n",
       "11           InfluenceHardware   \n",
       "12          InfluenceTechStack   \n",
       "13    StackOverflowCompanyPage   \n",
       "14  EquipmentSatisfiedMonitors   \n",
       "\n",
       "                                             Question  \n",
       "0   Are you currently enrolled in a formal, degree...  \n",
       "1   Which of the following best describes the high...  \n",
       "2   Overall, how important has your formal schooli...  \n",
       "3   Outside of your formal schooling and education...  \n",
       "4   What is the highest level of education receive...  \n",
       "5   In terms of the number of employees, how large...  \n",
       "6   Which of the following best describes the type...  \n",
       "7   When you're assessing potential jobs to apply ...  \n",
       "8   When you're assessing potential jobs to apply ...  \n",
       "9   When you're assessing potential jobs to apply ...  \n",
       "10  When you're assessing potential jobs to apply ...  \n",
       "11  How much influence do you have on purchasing d...  \n",
       "12  How much influence do you have on purchasing d...  \n",
       "13  Over the last three months, approximately how ...  \n",
       "14  Thinking about your main coding workstation, h...  "
      ]
     },
     "execution_count": 119,
     "metadata": {},
     "output_type": "execute_result"
    }
   ],
   "source": [
    "Obs1_words = ['formal', 'education', 'company', 'size']\n",
    "\n",
    "Obs1_idx, Obs1_q = get_relevant_questions(Obs1_words)\n",
    "Obs1_q"
   ]
  },
  {
   "cell_type": "code",
   "execution_count": 120,
   "metadata": {},
   "outputs": [],
   "source": [
    "q_of_interest = ['FormalEducation', 'EducationImportant', 'CompanySize', 'CompanyType']"
   ]
  },
  {
   "cell_type": "code",
   "execution_count": 121,
   "metadata": {},
   "outputs": [
    {
     "name": "stdout",
     "output_type": "stream",
     "text": [
      "<class 'pandas.core.frame.DataFrame'>\n",
      "RangeIndex: 51392 entries, 0 to 51391\n",
      "Data columns (total 4 columns):\n",
      " #   Column              Non-Null Count  Dtype \n",
      "---  ------              --------------  ----- \n",
      " 0   FormalEducation     51392 non-null  object\n",
      " 1   EducationImportant  23355 non-null  object\n",
      " 2   CompanySize         38922 non-null  object\n",
      " 3   CompanyType         38823 non-null  object\n",
      "dtypes: object(4)\n",
      "memory usage: 1.6+ MB\n"
     ]
    }
   ],
   "source": [
    "df_q1 = df[q_of_interest]\n",
    "df_q1.info()"
   ]
  },
  {
   "cell_type": "code",
   "execution_count": 122,
   "metadata": {},
   "outputs": [
    {
     "data": {
      "image/png": "[encoded data removed]",
      "text/plain": [
       "<Figure size 432x288 with 1 Axes>"
      ]
     },
     "metadata": {
      "needs_background": "light"
     },
     "output_type": "display_data"
    }
   ],
   "source": [
    "df_q1.FormalEducation.hist(xrot=90);"
   ]
  },
  {
   "cell_type": "markdown",
   "metadata": {},
   "source": [
    "This suggests Bachelor's degree holders are the majority. Let's encode the education level and company size to see the correlation."
   ]
  },
  {
   "cell_type": "code",
   "execution_count": 123,
   "metadata": {},
   "outputs": [],
   "source": [
    "edu_set = list(set(df_q1.FormalEducation))"
   ]
  },
  {
   "cell_type": "code",
   "execution_count": 124,
   "metadata": {},
   "outputs": [
    {
     "data": {
      "text/plain": [
       "['Secondary school',\n",
       " 'Professional degree',\n",
       " 'I prefer not to answer',\n",
       " 'I never completed any formal education',\n",
       " \"Master's degree\",\n",
       " \"Bachelor's degree\",\n",
       " 'Doctoral degree',\n",
       " 'Primary/elementary school',\n",
       " \"Some college/university study without earning a bachelor's degree\"]"
      ]
     },
     "execution_count": 124,
     "metadata": {},
     "output_type": "execute_result"
    }
   ],
   "source": [
    "edu_set"
   ]
  },
  {
   "cell_type": "code",
   "execution_count": 178,
   "metadata": {},
   "outputs": [],
   "source": [
    "edu_dict = {'Secondary school': 3,\n",
    "         'Professional degree': 7,\n",
    "         'I prefer not to answer': 0,\n",
    "         'I never completed any formal education': 1,\n",
    "         \"Master's degree\": 6,\n",
    "         \"Bachelor's degree\": 5,\n",
    "         'Doctoral degree': 8,\n",
    "         'Primary/elementary school': 2,\n",
    "         \"Some college/university study without earning a bachelor's degree\": 4}"
   ]
  },
  {
   "cell_type": "code",
   "execution_count": 179,
   "metadata": {},
   "outputs": [],
   "source": [
    "def encode_col(replace_dict, df, col):    \n",
    "    try:\n",
    "        df[''.join([col, '_factor'])] = df[col].replace(replace_dict)\n",
    "    except:\n",
    "           pass\n",
    "    return df"
   ]
  },
  {
   "cell_type": "code",
   "execution_count": 180,
   "metadata": {},
   "outputs": [
    {
     "name": "stderr",
     "output_type": "stream",
     "text": [
      "C:\\Users\\Sue\\anaconda3\\lib\\site-packages\\ipykernel_launcher.py:3: SettingWithCopyWarning: \n",
      "A value is trying to be set on a copy of a slice from a DataFrame.\n",
      "Try using .loc[row_indexer,col_indexer] = value instead\n",
      "\n",
      "See the caveats in the documentation: https://pandas.pydata.org/pandas-docs/stable/user_guide/indexing.html#returning-a-view-versus-a-copy\n",
      "  This is separate from the ipykernel package so we can avoid doing imports until\n"
     ]
    },
    {
     "data": {
      "text/html": [
       "<div>\n",
       "<style scoped>\n",
       "    .dataframe tbody tr th:only-of-type {\n",
       "        vertical-align: middle;\n",
       "    }\n",
       "\n",
       "    .dataframe tbody tr th {\n",
       "        vertical-align: top;\n",
       "    }\n",
       "\n",
       "    .dataframe thead th {\n",
       "        text-align: right;\n",
       "    }\n",
       "</style>\n",
       "<table border=\"1\" class=\"dataframe\">\n",
       "  <thead>\n",
       "    <tr style=\"text-align: right;\">\n",
       "      <th></th>\n",
       "      <th>FormalEducation</th>\n",
       "      <th>EducationImportant</th>\n",
       "      <th>CompanySize</th>\n",
       "      <th>CompanyType</th>\n",
       "      <th>FormalEducation_factor</th>\n",
       "      <th>CompanySize_factor</th>\n",
       "    </tr>\n",
       "  </thead>\n",
       "  <tbody>\n",
       "    <tr>\n",
       "      <th>0</th>\n",
       "      <td>Secondary school</td>\n",
       "      <td>NaN</td>\n",
       "      <td>NaN</td>\n",
       "      <td>NaN</td>\n",
       "      <td>3</td>\n",
       "      <td>NaN</td>\n",
       "    </tr>\n",
       "    <tr>\n",
       "      <th>1</th>\n",
       "      <td>Some college/university study without earning ...</td>\n",
       "      <td>NaN</td>\n",
       "      <td>20 to 99 employees</td>\n",
       "      <td>Privately-held limited company, not in startup...</td>\n",
       "      <td>4</td>\n",
       "      <td>4.0</td>\n",
       "    </tr>\n",
       "    <tr>\n",
       "      <th>2</th>\n",
       "      <td>Bachelor's degree</td>\n",
       "      <td>Not very important</td>\n",
       "      <td>10,000 or more employees</td>\n",
       "      <td>Publicly-traded corporation</td>\n",
       "      <td>5</td>\n",
       "      <td>9.0</td>\n",
       "    </tr>\n",
       "    <tr>\n",
       "      <th>3</th>\n",
       "      <td>Doctoral degree</td>\n",
       "      <td>NaN</td>\n",
       "      <td>10,000 or more employees</td>\n",
       "      <td>Non-profit/non-governmental organization or pr...</td>\n",
       "      <td>8</td>\n",
       "      <td>9.0</td>\n",
       "    </tr>\n",
       "    <tr>\n",
       "      <th>4</th>\n",
       "      <td>Master's degree</td>\n",
       "      <td>NaN</td>\n",
       "      <td>10 to 19 employees</td>\n",
       "      <td>Privately-held limited company, not in startup...</td>\n",
       "      <td>6</td>\n",
       "      <td>3.0</td>\n",
       "    </tr>\n",
       "    <tr>\n",
       "      <th>...</th>\n",
       "      <td>...</td>\n",
       "      <td>...</td>\n",
       "      <td>...</td>\n",
       "      <td>...</td>\n",
       "      <td>...</td>\n",
       "      <td>...</td>\n",
       "    </tr>\n",
       "    <tr>\n",
       "      <th>51387</th>\n",
       "      <td>Bachelor's degree</td>\n",
       "      <td>Somewhat important</td>\n",
       "      <td>100 to 499 employees</td>\n",
       "      <td>I don't know</td>\n",
       "      <td>5</td>\n",
       "      <td>5.0</td>\n",
       "    </tr>\n",
       "    <tr>\n",
       "      <th>51388</th>\n",
       "      <td>Master's degree</td>\n",
       "      <td>NaN</td>\n",
       "      <td>100 to 499 employees</td>\n",
       "      <td>Government agency or public school/university</td>\n",
       "      <td>6</td>\n",
       "      <td>5.0</td>\n",
       "    </tr>\n",
       "    <tr>\n",
       "      <th>51389</th>\n",
       "      <td>Some college/university study without earning ...</td>\n",
       "      <td>Not very important</td>\n",
       "      <td>10 to 19 employees</td>\n",
       "      <td>I prefer not to answer</td>\n",
       "      <td>4</td>\n",
       "      <td>3.0</td>\n",
       "    </tr>\n",
       "    <tr>\n",
       "      <th>51390</th>\n",
       "      <td>Bachelor's degree</td>\n",
       "      <td>NaN</td>\n",
       "      <td>Fewer than 10 employees</td>\n",
       "      <td>Sole proprietorship or partnership, not in sta...</td>\n",
       "      <td>5</td>\n",
       "      <td>2.0</td>\n",
       "    </tr>\n",
       "    <tr>\n",
       "      <th>51391</th>\n",
       "      <td>Bachelor's degree</td>\n",
       "      <td>NaN</td>\n",
       "      <td>10,000 or more employees</td>\n",
       "      <td>Privately-held limited company, not in startup...</td>\n",
       "      <td>5</td>\n",
       "      <td>9.0</td>\n",
       "    </tr>\n",
       "  </tbody>\n",
       "</table>\n",
       "<p>51392 rows × 6 columns</p>\n",
       "</div>"
      ],
      "text/plain": [
       "                                         FormalEducation  EducationImportant  \\\n",
       "0                                       Secondary school                 NaN   \n",
       "1      Some college/university study without earning ...                 NaN   \n",
       "2                                      Bachelor's degree  Not very important   \n",
       "3                                        Doctoral degree                 NaN   \n",
       "4                                        Master's degree                 NaN   \n",
       "...                                                  ...                 ...   \n",
       "51387                                  Bachelor's degree  Somewhat important   \n",
       "51388                                    Master's degree                 NaN   \n",
       "51389  Some college/university study without earning ...  Not very important   \n",
       "51390                                  Bachelor's degree                 NaN   \n",
       "51391                                  Bachelor's degree                 NaN   \n",
       "\n",
       "                    CompanySize  \\\n",
       "0                           NaN   \n",
       "1            20 to 99 employees   \n",
       "2      10,000 or more employees   \n",
       "3      10,000 or more employees   \n",
       "4            10 to 19 employees   \n",
       "...                         ...   \n",
       "51387      100 to 499 employees   \n",
       "51388      100 to 499 employees   \n",
       "51389        10 to 19 employees   \n",
       "51390   Fewer than 10 employees   \n",
       "51391  10,000 or more employees   \n",
       "\n",
       "                                             CompanyType  \\\n",
       "0                                                    NaN   \n",
       "1      Privately-held limited company, not in startup...   \n",
       "2                            Publicly-traded corporation   \n",
       "3      Non-profit/non-governmental organization or pr...   \n",
       "4      Privately-held limited company, not in startup...   \n",
       "...                                                  ...   \n",
       "51387                                       I don't know   \n",
       "51388      Government agency or public school/university   \n",
       "51389                             I prefer not to answer   \n",
       "51390  Sole proprietorship or partnership, not in sta...   \n",
       "51391  Privately-held limited company, not in startup...   \n",
       "\n",
       "       FormalEducation_factor  CompanySize_factor  \n",
       "0                           3                 NaN  \n",
       "1                           4                 4.0  \n",
       "2                           5                 9.0  \n",
       "3                           8                 9.0  \n",
       "4                           6                 3.0  \n",
       "...                       ...                 ...  \n",
       "51387                       5                 5.0  \n",
       "51388                       6                 5.0  \n",
       "51389                       4                 3.0  \n",
       "51390                       5                 2.0  \n",
       "51391                       5                 9.0  \n",
       "\n",
       "[51392 rows x 6 columns]"
      ]
     },
     "execution_count": 180,
     "metadata": {},
     "output_type": "execute_result"
    }
   ],
   "source": [
    "encode_col(edu_dict, df_q1, 'FormalEducation')"
   ]
  },
  {
   "cell_type": "code",
   "execution_count": 181,
   "metadata": {},
   "outputs": [
    {
     "data": {
      "text/plain": [
       "{'1,000 to 4,999 employees',\n",
       " '10 to 19 employees',\n",
       " '10,000 or more employees',\n",
       " '100 to 499 employees',\n",
       " '20 to 99 employees',\n",
       " '5,000 to 9,999 employees',\n",
       " '500 to 999 employees',\n",
       " 'Fewer than 10 employees',\n",
       " \"I don't know\",\n",
       " 'I prefer not to answer'}"
      ]
     },
     "execution_count": 181,
     "metadata": {},
     "output_type": "execute_result"
    }
   ],
   "source": [
    "comp_set = set(df_q1['CompanySize'].dropna())\n",
    "comp_set"
   ]
  },
  {
   "cell_type": "code",
   "execution_count": 182,
   "metadata": {},
   "outputs": [],
   "source": [
    "comp_dict = {'1,000 to 4,999 employees': 7,\n",
    "             '10 to 19 employees': 3,\n",
    "             '10,000 or more employees': 9,\n",
    "             '100 to 499 employees': 5,\n",
    "             '20 to 99 employees': 4,\n",
    "             '5,000 to 9,999 employees': 8,\n",
    "             '500 to 999 employees': 6,\n",
    "             'Fewer than 10 employees': 2,\n",
    "             \"I don't know\": 1,\n",
    "             'I prefer not to answer': 0}"
   ]
  },
  {
   "cell_type": "code",
   "execution_count": 183,
   "metadata": {},
   "outputs": [
    {
     "name": "stderr",
     "output_type": "stream",
     "text": [
      "C:\\Users\\Sue\\anaconda3\\lib\\site-packages\\ipykernel_launcher.py:3: SettingWithCopyWarning: \n",
      "A value is trying to be set on a copy of a slice from a DataFrame.\n",
      "Try using .loc[row_indexer,col_indexer] = value instead\n",
      "\n",
      "See the caveats in the documentation: https://pandas.pydata.org/pandas-docs/stable/user_guide/indexing.html#returning-a-view-versus-a-copy\n",
      "  This is separate from the ipykernel package so we can avoid doing imports until\n"
     ]
    },
    {
     "data": {
      "text/html": [
       "<div>\n",
       "<style scoped>\n",
       "    .dataframe tbody tr th:only-of-type {\n",
       "        vertical-align: middle;\n",
       "    }\n",
       "\n",
       "    .dataframe tbody tr th {\n",
       "        vertical-align: top;\n",
       "    }\n",
       "\n",
       "    .dataframe thead th {\n",
       "        text-align: right;\n",
       "    }\n",
       "</style>\n",
       "<table border=\"1\" class=\"dataframe\">\n",
       "  <thead>\n",
       "    <tr style=\"text-align: right;\">\n",
       "      <th></th>\n",
       "      <th>FormalEducation</th>\n",
       "      <th>EducationImportant</th>\n",
       "      <th>CompanySize</th>\n",
       "      <th>CompanyType</th>\n",
       "      <th>FormalEducation_factor</th>\n",
       "      <th>CompanySize_factor</th>\n",
       "    </tr>\n",
       "  </thead>\n",
       "  <tbody>\n",
       "    <tr>\n",
       "      <th>0</th>\n",
       "      <td>Secondary school</td>\n",
       "      <td>NaN</td>\n",
       "      <td>NaN</td>\n",
       "      <td>NaN</td>\n",
       "      <td>3</td>\n",
       "      <td>NaN</td>\n",
       "    </tr>\n",
       "    <tr>\n",
       "      <th>1</th>\n",
       "      <td>Some college/university study without earning ...</td>\n",
       "      <td>NaN</td>\n",
       "      <td>20 to 99 employees</td>\n",
       "      <td>Privately-held limited company, not in startup...</td>\n",
       "      <td>4</td>\n",
       "      <td>4.0</td>\n",
       "    </tr>\n",
       "    <tr>\n",
       "      <th>2</th>\n",
       "      <td>Bachelor's degree</td>\n",
       "      <td>Not very important</td>\n",
       "      <td>10,000 or more employees</td>\n",
       "      <td>Publicly-traded corporation</td>\n",
       "      <td>5</td>\n",
       "      <td>9.0</td>\n",
       "    </tr>\n",
       "    <tr>\n",
       "      <th>3</th>\n",
       "      <td>Doctoral degree</td>\n",
       "      <td>NaN</td>\n",
       "      <td>10,000 or more employees</td>\n",
       "      <td>Non-profit/non-governmental organization or pr...</td>\n",
       "      <td>8</td>\n",
       "      <td>9.0</td>\n",
       "    </tr>\n",
       "    <tr>\n",
       "      <th>4</th>\n",
       "      <td>Master's degree</td>\n",
       "      <td>NaN</td>\n",
       "      <td>10 to 19 employees</td>\n",
       "      <td>Privately-held limited company, not in startup...</td>\n",
       "      <td>6</td>\n",
       "      <td>3.0</td>\n",
       "    </tr>\n",
       "    <tr>\n",
       "      <th>...</th>\n",
       "      <td>...</td>\n",
       "      <td>...</td>\n",
       "      <td>...</td>\n",
       "      <td>...</td>\n",
       "      <td>...</td>\n",
       "      <td>...</td>\n",
       "    </tr>\n",
       "    <tr>\n",
       "      <th>51387</th>\n",
       "      <td>Bachelor's degree</td>\n",
       "      <td>Somewhat important</td>\n",
       "      <td>100 to 499 employees</td>\n",
       "      <td>I don't know</td>\n",
       "      <td>5</td>\n",
       "      <td>5.0</td>\n",
       "    </tr>\n",
       "    <tr>\n",
       "      <th>51388</th>\n",
       "      <td>Master's degree</td>\n",
       "      <td>NaN</td>\n",
       "      <td>100 to 499 employees</td>\n",
       "      <td>Government agency or public school/university</td>\n",
       "      <td>6</td>\n",
       "      <td>5.0</td>\n",
       "    </tr>\n",
       "    <tr>\n",
       "      <th>51389</th>\n",
       "      <td>Some college/university study without earning ...</td>\n",
       "      <td>Not very important</td>\n",
       "      <td>10 to 19 employees</td>\n",
       "      <td>I prefer not to answer</td>\n",
       "      <td>4</td>\n",
       "      <td>3.0</td>\n",
       "    </tr>\n",
       "    <tr>\n",
       "      <th>51390</th>\n",
       "      <td>Bachelor's degree</td>\n",
       "      <td>NaN</td>\n",
       "      <td>Fewer than 10 employees</td>\n",
       "      <td>Sole proprietorship or partnership, not in sta...</td>\n",
       "      <td>5</td>\n",
       "      <td>2.0</td>\n",
       "    </tr>\n",
       "    <tr>\n",
       "      <th>51391</th>\n",
       "      <td>Bachelor's degree</td>\n",
       "      <td>NaN</td>\n",
       "      <td>10,000 or more employees</td>\n",
       "      <td>Privately-held limited company, not in startup...</td>\n",
       "      <td>5</td>\n",
       "      <td>9.0</td>\n",
       "    </tr>\n",
       "  </tbody>\n",
       "</table>\n",
       "<p>51392 rows × 6 columns</p>\n",
       "</div>"
      ],
      "text/plain": [
       "                                         FormalEducation  EducationImportant  \\\n",
       "0                                       Secondary school                 NaN   \n",
       "1      Some college/university study without earning ...                 NaN   \n",
       "2                                      Bachelor's degree  Not very important   \n",
       "3                                        Doctoral degree                 NaN   \n",
       "4                                        Master's degree                 NaN   \n",
       "...                                                  ...                 ...   \n",
       "51387                                  Bachelor's degree  Somewhat important   \n",
       "51388                                    Master's degree                 NaN   \n",
       "51389  Some college/university study without earning ...  Not very important   \n",
       "51390                                  Bachelor's degree                 NaN   \n",
       "51391                                  Bachelor's degree                 NaN   \n",
       "\n",
       "                    CompanySize  \\\n",
       "0                           NaN   \n",
       "1            20 to 99 employees   \n",
       "2      10,000 or more employees   \n",
       "3      10,000 or more employees   \n",
       "4            10 to 19 employees   \n",
       "...                         ...   \n",
       "51387      100 to 499 employees   \n",
       "51388      100 to 499 employees   \n",
       "51389        10 to 19 employees   \n",
       "51390   Fewer than 10 employees   \n",
       "51391  10,000 or more employees   \n",
       "\n",
       "                                             CompanyType  \\\n",
       "0                                                    NaN   \n",
       "1      Privately-held limited company, not in startup...   \n",
       "2                            Publicly-traded corporation   \n",
       "3      Non-profit/non-governmental organization or pr...   \n",
       "4      Privately-held limited company, not in startup...   \n",
       "...                                                  ...   \n",
       "51387                                       I don't know   \n",
       "51388      Government agency or public school/university   \n",
       "51389                             I prefer not to answer   \n",
       "51390  Sole proprietorship or partnership, not in sta...   \n",
       "51391  Privately-held limited company, not in startup...   \n",
       "\n",
       "       FormalEducation_factor  CompanySize_factor  \n",
       "0                           3                 NaN  \n",
       "1                           4                 4.0  \n",
       "2                           5                 9.0  \n",
       "3                           8                 9.0  \n",
       "4                           6                 3.0  \n",
       "...                       ...                 ...  \n",
       "51387                       5                 5.0  \n",
       "51388                       6                 5.0  \n",
       "51389                       4                 3.0  \n",
       "51390                       5                 2.0  \n",
       "51391                       5                 9.0  \n",
       "\n",
       "[51392 rows x 6 columns]"
      ]
     },
     "execution_count": 183,
     "metadata": {},
     "output_type": "execute_result"
    }
   ],
   "source": [
    "encode_col(comp_dict, df_q1, 'CompanySize')"
   ]
  },
  {
   "cell_type": "code",
   "execution_count": 184,
   "metadata": {},
   "outputs": [
    {
     "data": {
      "text/plain": [
       "0.12480312420334169"
      ]
     },
     "execution_count": 184,
     "metadata": {},
     "output_type": "execute_result"
    }
   ],
   "source": [
    "df_edu_comp = df_q1[['FormalEducation_factor', 'CompanySize_factor']].dropna()\n",
    "\n",
    "df_edu_comp['FormalEducation_factor'].corr(df_edu_comp['CompanySize_factor'])"
   ]
  },
  {
   "cell_type": "markdown",
   "metadata": {},
   "source": [
    "There is a weak relation between education level and company size. Let's examine the preference of PhD, MS, and Bachelor holders.  "
   ]
  },
  {
   "cell_type": "code",
   "execution_count": 185,
   "metadata": {},
   "outputs": [
    {
     "data": {
      "image/png": "[encoded data removed]",
      "text/plain": [
       "<Figure size 432x288 with 1 Axes>"
      ]
     },
     "metadata": {
      "needs_background": "light"
     },
     "output_type": "display_data"
    }
   ],
   "source": [
    "# PhD degree graduate\n",
    "df_q1[df_q1['FormalEducation']=='Doctoral degree']['CompanySize_factor'].hist();"
   ]
  },
  {
   "cell_type": "code",
   "execution_count": 186,
   "metadata": {},
   "outputs": [
    {
     "data": {
      "image/png": "[encoded data removed]",
      "text/plain": [
       "<Figure size 432x288 with 1 Axes>"
      ]
     },
     "metadata": {
      "needs_background": "light"
     },
     "output_type": "display_data"
    }
   ],
   "source": [
    "# MS degree graduate\n",
    "df_q1[df_q1['FormalEducation']==\"Master's degree\"]['CompanySize_factor'].hist();"
   ]
  },
  {
   "cell_type": "code",
   "execution_count": 187,
   "metadata": {},
   "outputs": [
    {
     "data": {
      "image/png": "[encoded data removed]",
      "text/plain": [
       "<Figure size 432x288 with 1 Axes>"
      ]
     },
     "metadata": {
      "needs_background": "light"
     },
     "output_type": "display_data"
    }
   ],
   "source": [
    "# Bachelor's degree graduate\n",
    "df_q1[df_q1['FormalEducation']==\"Bachelor's degree\"]['CompanySize_factor'].hist();"
   ]
  },
  {
   "cell_type": "code",
   "execution_count": 188,
   "metadata": {},
   "outputs": [
    {
     "data": {
      "image/png": "[encoded data removed]",
      "text/plain": [
       "<Figure size 432x288 with 1 Axes>"
      ]
     },
     "metadata": {
      "needs_background": "light"
     },
     "output_type": "display_data"
    }
   ],
   "source": [
    "# Secondary degree graduate\n",
    "df_q1[df_q1['FormalEducation']==\"Secondary school\"]['CompanySize_factor'].hist();"
   ]
  },
  {
   "cell_type": "markdown",
   "metadata": {},
   "source": [
    "### Q1 Answer: \n",
    "The correlation between education and company size is negligible. When seprately observed, Doctoral degree holders work for large size companies while the rest work for mid size companies."
   ]
  },
  {
   "cell_type": "markdown",
   "metadata": {},
   "source": [
    "### Q2. Let's find out if it is true that the longer a person has worked for as a programmer, the more satisfied the person could be."
   ]
  },
  {
   "cell_type": "code",
   "execution_count": 189,
   "metadata": {},
   "outputs": [
    {
     "data": {
      "text/html": [
       "<div>\n",
       "<style scoped>\n",
       "    .dataframe tbody tr th:only-of-type {\n",
       "        vertical-align: middle;\n",
       "    }\n",
       "\n",
       "    .dataframe tbody tr th {\n",
       "        vertical-align: top;\n",
       "    }\n",
       "\n",
       "    .dataframe thead th {\n",
       "        text-align: right;\n",
       "    }\n",
       "</style>\n",
       "<table border=\"1\" class=\"dataframe\">\n",
       "  <thead>\n",
       "    <tr style=\"text-align: right;\">\n",
       "      <th></th>\n",
       "      <th>YearsProgram</th>\n",
       "      <th>YearsCodedJob</th>\n",
       "      <th>Overpaid</th>\n",
       "      <th>CareerSatisfaction</th>\n",
       "      <th>JobSatisfaction</th>\n",
       "    </tr>\n",
       "  </thead>\n",
       "  <tbody>\n",
       "    <tr>\n",
       "      <th>0</th>\n",
       "      <td>2 to 3 years</td>\n",
       "      <td>NaN</td>\n",
       "      <td>NaN</td>\n",
       "      <td>NaN</td>\n",
       "      <td>NaN</td>\n",
       "    </tr>\n",
       "    <tr>\n",
       "      <th>1</th>\n",
       "      <td>9 to 10 years</td>\n",
       "      <td>NaN</td>\n",
       "      <td>NaN</td>\n",
       "      <td>NaN</td>\n",
       "      <td>NaN</td>\n",
       "    </tr>\n",
       "    <tr>\n",
       "      <th>2</th>\n",
       "      <td>20 or more years</td>\n",
       "      <td>20 or more years</td>\n",
       "      <td>Neither underpaid nor overpaid</td>\n",
       "      <td>8.0</td>\n",
       "      <td>9.0</td>\n",
       "    </tr>\n",
       "    <tr>\n",
       "      <th>3</th>\n",
       "      <td>14 to 15 years</td>\n",
       "      <td>9 to 10 years</td>\n",
       "      <td>NaN</td>\n",
       "      <td>6.0</td>\n",
       "      <td>3.0</td>\n",
       "    </tr>\n",
       "    <tr>\n",
       "      <th>4</th>\n",
       "      <td>20 or more years</td>\n",
       "      <td>10 to 11 years</td>\n",
       "      <td>NaN</td>\n",
       "      <td>6.0</td>\n",
       "      <td>8.0</td>\n",
       "    </tr>\n",
       "    <tr>\n",
       "      <th>...</th>\n",
       "      <td>...</td>\n",
       "      <td>...</td>\n",
       "      <td>...</td>\n",
       "      <td>...</td>\n",
       "      <td>...</td>\n",
       "    </tr>\n",
       "    <tr>\n",
       "      <th>51387</th>\n",
       "      <td>6 to 7 years</td>\n",
       "      <td>1 to 2 years</td>\n",
       "      <td>Greatly underpaid</td>\n",
       "      <td>7.0</td>\n",
       "      <td>3.0</td>\n",
       "    </tr>\n",
       "    <tr>\n",
       "      <th>51388</th>\n",
       "      <td>2 to 3 years</td>\n",
       "      <td>NaN</td>\n",
       "      <td>NaN</td>\n",
       "      <td>NaN</td>\n",
       "      <td>NaN</td>\n",
       "    </tr>\n",
       "    <tr>\n",
       "      <th>51389</th>\n",
       "      <td>Less than a year</td>\n",
       "      <td>Less than a year</td>\n",
       "      <td>NaN</td>\n",
       "      <td>10.0</td>\n",
       "      <td>10.0</td>\n",
       "    </tr>\n",
       "    <tr>\n",
       "      <th>51390</th>\n",
       "      <td>17 to 18 years</td>\n",
       "      <td>3 to 4 years</td>\n",
       "      <td>Greatly underpaid</td>\n",
       "      <td>6.0</td>\n",
       "      <td>7.0</td>\n",
       "    </tr>\n",
       "    <tr>\n",
       "      <th>51391</th>\n",
       "      <td>14 to 15 years</td>\n",
       "      <td>5 to 6 years</td>\n",
       "      <td>NaN</td>\n",
       "      <td>8.0</td>\n",
       "      <td>8.0</td>\n",
       "    </tr>\n",
       "  </tbody>\n",
       "</table>\n",
       "<p>51392 rows × 5 columns</p>\n",
       "</div>"
      ],
      "text/plain": [
       "           YearsProgram     YearsCodedJob                        Overpaid  \\\n",
       "0          2 to 3 years               NaN                             NaN   \n",
       "1         9 to 10 years               NaN                             NaN   \n",
       "2      20 or more years  20 or more years  Neither underpaid nor overpaid   \n",
       "3        14 to 15 years     9 to 10 years                             NaN   \n",
       "4      20 or more years    10 to 11 years                             NaN   \n",
       "...                 ...               ...                             ...   \n",
       "51387      6 to 7 years      1 to 2 years               Greatly underpaid   \n",
       "51388      2 to 3 years               NaN                             NaN   \n",
       "51389  Less than a year  Less than a year                             NaN   \n",
       "51390    17 to 18 years      3 to 4 years               Greatly underpaid   \n",
       "51391    14 to 15 years      5 to 6 years                             NaN   \n",
       "\n",
       "       CareerSatisfaction  JobSatisfaction  \n",
       "0                     NaN              NaN  \n",
       "1                     NaN              NaN  \n",
       "2                     8.0              9.0  \n",
       "3                     6.0              3.0  \n",
       "4                     6.0              8.0  \n",
       "...                   ...              ...  \n",
       "51387                 7.0              3.0  \n",
       "51388                 NaN              NaN  \n",
       "51389                10.0             10.0  \n",
       "51390                 6.0              7.0  \n",
       "51391                 8.0              8.0  \n",
       "\n",
       "[51392 rows x 5 columns]"
      ]
     },
     "execution_count": 189,
     "metadata": {},
     "output_type": "execute_result"
    }
   ],
   "source": [
    "df_q2 = df[['YearsProgram', 'YearsCodedJob', 'Overpaid', 'CareerSatisfaction', 'JobSatisfaction']]\n",
    "df_q2"
   ]
  },
  {
   "cell_type": "code",
   "execution_count": 190,
   "metadata": {},
   "outputs": [
    {
     "data": {
      "text/plain": [
       "{'1 to 2 years',\n",
       " '10 to 11 years',\n",
       " '11 to 12 years',\n",
       " '12 to 13 years',\n",
       " '13 to 14 years',\n",
       " '14 to 15 years',\n",
       " '15 to 16 years',\n",
       " '16 to 17 years',\n",
       " '17 to 18 years',\n",
       " '18 to 19 years',\n",
       " '19 to 20 years',\n",
       " '2 to 3 years',\n",
       " '20 or more years',\n",
       " '3 to 4 years',\n",
       " '4 to 5 years',\n",
       " '5 to 6 years',\n",
       " '6 to 7 years',\n",
       " '7 to 8 years',\n",
       " '8 to 9 years',\n",
       " '9 to 10 years',\n",
       " 'Less than a year',\n",
       " nan}"
      ]
     },
     "execution_count": 190,
     "metadata": {},
     "output_type": "execute_result"
    }
   ],
   "source": [
    "code_years = set(df_q2['YearsCodedJob'])\n",
    "code_years"
   ]
  },
  {
   "cell_type": "code",
   "execution_count": 191,
   "metadata": {},
   "outputs": [
    {
     "name": "stderr",
     "output_type": "stream",
     "text": [
      "C:\\Users\\Sue\\anaconda3\\lib\\site-packages\\ipykernel_launcher.py:1: SettingWithCopyWarning: \n",
      "A value is trying to be set on a copy of a slice from a DataFrame.\n",
      "Try using .loc[row_indexer,col_indexer] = value instead\n",
      "\n",
      "See the caveats in the documentation: https://pandas.pydata.org/pandas-docs/stable/user_guide/indexing.html#returning-a-view-versus-a-copy\n",
      "  \"\"\"Entry point for launching an IPython kernel.\n"
     ]
    },
    {
     "data": {
      "text/html": [
       "<div>\n",
       "<style scoped>\n",
       "    .dataframe tbody tr th:only-of-type {\n",
       "        vertical-align: middle;\n",
       "    }\n",
       "\n",
       "    .dataframe tbody tr th {\n",
       "        vertical-align: top;\n",
       "    }\n",
       "\n",
       "    .dataframe thead th {\n",
       "        text-align: right;\n",
       "    }\n",
       "</style>\n",
       "<table border=\"1\" class=\"dataframe\">\n",
       "  <thead>\n",
       "    <tr style=\"text-align: right;\">\n",
       "      <th></th>\n",
       "      <th>YearsProgram</th>\n",
       "      <th>YearsCodedJob</th>\n",
       "      <th>Overpaid</th>\n",
       "      <th>CareerSatisfaction</th>\n",
       "      <th>JobSatisfaction</th>\n",
       "      <th>YearsCode_encoded</th>\n",
       "    </tr>\n",
       "  </thead>\n",
       "  <tbody>\n",
       "    <tr>\n",
       "      <th>0</th>\n",
       "      <td>2 to 3 years</td>\n",
       "      <td>NaN</td>\n",
       "      <td>NaN</td>\n",
       "      <td>NaN</td>\n",
       "      <td>NaN</td>\n",
       "      <td>NaN</td>\n",
       "    </tr>\n",
       "    <tr>\n",
       "      <th>1</th>\n",
       "      <td>9 to 10 years</td>\n",
       "      <td>NaN</td>\n",
       "      <td>NaN</td>\n",
       "      <td>NaN</td>\n",
       "      <td>NaN</td>\n",
       "      <td>NaN</td>\n",
       "    </tr>\n",
       "    <tr>\n",
       "      <th>2</th>\n",
       "      <td>20 or more years</td>\n",
       "      <td>20 or more years</td>\n",
       "      <td>Neither underpaid nor overpaid</td>\n",
       "      <td>8.0</td>\n",
       "      <td>9.0</td>\n",
       "      <td>20</td>\n",
       "    </tr>\n",
       "    <tr>\n",
       "      <th>3</th>\n",
       "      <td>14 to 15 years</td>\n",
       "      <td>9 to 10 years</td>\n",
       "      <td>NaN</td>\n",
       "      <td>6.0</td>\n",
       "      <td>3.0</td>\n",
       "      <td>9</td>\n",
       "    </tr>\n",
       "    <tr>\n",
       "      <th>4</th>\n",
       "      <td>20 or more years</td>\n",
       "      <td>10 to 11 years</td>\n",
       "      <td>NaN</td>\n",
       "      <td>6.0</td>\n",
       "      <td>8.0</td>\n",
       "      <td>10</td>\n",
       "    </tr>\n",
       "    <tr>\n",
       "      <th>...</th>\n",
       "      <td>...</td>\n",
       "      <td>...</td>\n",
       "      <td>...</td>\n",
       "      <td>...</td>\n",
       "      <td>...</td>\n",
       "      <td>...</td>\n",
       "    </tr>\n",
       "    <tr>\n",
       "      <th>51387</th>\n",
       "      <td>6 to 7 years</td>\n",
       "      <td>1 to 2 years</td>\n",
       "      <td>Greatly underpaid</td>\n",
       "      <td>7.0</td>\n",
       "      <td>3.0</td>\n",
       "      <td>1</td>\n",
       "    </tr>\n",
       "    <tr>\n",
       "      <th>51388</th>\n",
       "      <td>2 to 3 years</td>\n",
       "      <td>NaN</td>\n",
       "      <td>NaN</td>\n",
       "      <td>NaN</td>\n",
       "      <td>NaN</td>\n",
       "      <td>NaN</td>\n",
       "    </tr>\n",
       "    <tr>\n",
       "      <th>51389</th>\n",
       "      <td>Less than a year</td>\n",
       "      <td>Less than a year</td>\n",
       "      <td>NaN</td>\n",
       "      <td>10.0</td>\n",
       "      <td>10.0</td>\n",
       "      <td>1</td>\n",
       "    </tr>\n",
       "    <tr>\n",
       "      <th>51390</th>\n",
       "      <td>17 to 18 years</td>\n",
       "      <td>3 to 4 years</td>\n",
       "      <td>Greatly underpaid</td>\n",
       "      <td>6.0</td>\n",
       "      <td>7.0</td>\n",
       "      <td>3</td>\n",
       "    </tr>\n",
       "    <tr>\n",
       "      <th>51391</th>\n",
       "      <td>14 to 15 years</td>\n",
       "      <td>5 to 6 years</td>\n",
       "      <td>NaN</td>\n",
       "      <td>8.0</td>\n",
       "      <td>8.0</td>\n",
       "      <td>5</td>\n",
       "    </tr>\n",
       "  </tbody>\n",
       "</table>\n",
       "<p>51392 rows × 6 columns</p>\n",
       "</div>"
      ],
      "text/plain": [
       "           YearsProgram     YearsCodedJob                        Overpaid  \\\n",
       "0          2 to 3 years               NaN                             NaN   \n",
       "1         9 to 10 years               NaN                             NaN   \n",
       "2      20 or more years  20 or more years  Neither underpaid nor overpaid   \n",
       "3        14 to 15 years     9 to 10 years                             NaN   \n",
       "4      20 or more years    10 to 11 years                             NaN   \n",
       "...                 ...               ...                             ...   \n",
       "51387      6 to 7 years      1 to 2 years               Greatly underpaid   \n",
       "51388      2 to 3 years               NaN                             NaN   \n",
       "51389  Less than a year  Less than a year                             NaN   \n",
       "51390    17 to 18 years      3 to 4 years               Greatly underpaid   \n",
       "51391    14 to 15 years      5 to 6 years                             NaN   \n",
       "\n",
       "       CareerSatisfaction  JobSatisfaction YearsCode_encoded  \n",
       "0                     NaN              NaN               NaN  \n",
       "1                     NaN              NaN               NaN  \n",
       "2                     8.0              9.0                20  \n",
       "3                     6.0              3.0                 9  \n",
       "4                     6.0              8.0                10  \n",
       "...                   ...              ...               ...  \n",
       "51387                 7.0              3.0                 1  \n",
       "51388                 NaN              NaN               NaN  \n",
       "51389                10.0             10.0                 1  \n",
       "51390                 6.0              7.0                 3  \n",
       "51391                 8.0              8.0                 5  \n",
       "\n",
       "[51392 rows x 6 columns]"
      ]
     },
     "execution_count": 191,
     "metadata": {},
     "output_type": "execute_result"
    }
   ],
   "source": [
    "df_q2['YearsCode_encoded'] = df_q2['YearsCodedJob'].str.split(' ').str[0].replace('Less', '1')\n",
    "df_q2"
   ]
  },
  {
   "cell_type": "code",
   "execution_count": 192,
   "metadata": {},
   "outputs": [],
   "source": [
    "career_code = df_q2[['YearsCode_encoded', 'CareerSatisfaction']].dropna()\n",
    "career_code['YearsCode_encoded'] = career_code['YearsCode_encoded'].astype(float)"
   ]
  },
  {
   "cell_type": "code",
   "execution_count": 193,
   "metadata": {},
   "outputs": [
    {
     "name": "stdout",
     "output_type": "stream",
     "text": [
      "<class 'pandas.core.frame.DataFrame'>\n",
      "Int64Index: 40567 entries, 2 to 51391\n",
      "Data columns (total 2 columns):\n",
      " #   Column              Non-Null Count  Dtype  \n",
      "---  ------              --------------  -----  \n",
      " 0   YearsCode_encoded   40567 non-null  float64\n",
      " 1   CareerSatisfaction  40567 non-null  float64\n",
      "dtypes: float64(2)\n",
      "memory usage: 950.8 KB\n"
     ]
    }
   ],
   "source": [
    "career_code.info()"
   ]
  },
  {
   "cell_type": "code",
   "execution_count": 194,
   "metadata": {},
   "outputs": [
    {
     "data": {
      "text/html": [
       "<div>\n",
       "<style scoped>\n",
       "    .dataframe tbody tr th:only-of-type {\n",
       "        vertical-align: middle;\n",
       "    }\n",
       "\n",
       "    .dataframe tbody tr th {\n",
       "        vertical-align: top;\n",
       "    }\n",
       "\n",
       "    .dataframe thead th {\n",
       "        text-align: right;\n",
       "    }\n",
       "</style>\n",
       "<table border=\"1\" class=\"dataframe\">\n",
       "  <thead>\n",
       "    <tr style=\"text-align: right;\">\n",
       "      <th></th>\n",
       "      <th>YearsCode_encoded</th>\n",
       "      <th>CareerSatisfaction</th>\n",
       "    </tr>\n",
       "  </thead>\n",
       "  <tbody>\n",
       "    <tr>\n",
       "      <th>YearsCode_encoded</th>\n",
       "      <td>1.000000</td>\n",
       "      <td>0.084362</td>\n",
       "    </tr>\n",
       "    <tr>\n",
       "      <th>CareerSatisfaction</th>\n",
       "      <td>0.084362</td>\n",
       "      <td>1.000000</td>\n",
       "    </tr>\n",
       "  </tbody>\n",
       "</table>\n",
       "</div>"
      ],
      "text/plain": [
       "                    YearsCode_encoded  CareerSatisfaction\n",
       "YearsCode_encoded            1.000000            0.084362\n",
       "CareerSatisfaction           0.084362            1.000000"
      ]
     },
     "execution_count": 194,
     "metadata": {},
     "output_type": "execute_result"
    }
   ],
   "source": [
    "career_code.corr()"
   ]
  },
  {
   "cell_type": "code",
   "execution_count": 195,
   "metadata": {},
   "outputs": [
    {
     "data": {
      "image/png": "[encoded data removed]",
      "text/plain": [
       "<Figure size 432x288 with 1 Axes>"
      ]
     },
     "metadata": {
      "needs_background": "light"
     },
     "output_type": "display_data"
    }
   ],
   "source": [
    "career_code.plot.scatter(x='YearsCode_encoded', y='CareerSatisfaction');"
   ]
  },
  {
   "cell_type": "markdown",
   "metadata": {},
   "source": [
    "It is interesting to see there is no correlation between Year of Code and Career Satisfaction."
   ]
  },
  {
   "cell_type": "code",
   "execution_count": 196,
   "metadata": {},
   "outputs": [
    {
     "data": {
      "text/plain": [
       "{'Greatly overpaid',\n",
       " 'Greatly underpaid',\n",
       " 'Neither underpaid nor overpaid',\n",
       " 'Somewhat overpaid',\n",
       " 'Somewhat underpaid',\n",
       " nan}"
      ]
     },
     "execution_count": 196,
     "metadata": {},
     "output_type": "execute_result"
    }
   ],
   "source": [
    "set(df_q2['Overpaid'])"
   ]
  },
  {
   "cell_type": "code",
   "execution_count": 197,
   "metadata": {},
   "outputs": [],
   "source": [
    "overpaid_dict = {'Greatly overpaid': 4,\n",
    "                 'Greatly underpaid': 0,\n",
    "                 'Neither underpaid nor overpaid':2,\n",
    "                 'Somewhat overpaid': 3,\n",
    "                 'Somewhat underpaid': 1\n",
    "                }"
   ]
  },
  {
   "cell_type": "code",
   "execution_count": 198,
   "metadata": {},
   "outputs": [
    {
     "name": "stderr",
     "output_type": "stream",
     "text": [
      "C:\\Users\\Sue\\anaconda3\\lib\\site-packages\\ipykernel_launcher.py:3: SettingWithCopyWarning: \n",
      "A value is trying to be set on a copy of a slice from a DataFrame.\n",
      "Try using .loc[row_indexer,col_indexer] = value instead\n",
      "\n",
      "See the caveats in the documentation: https://pandas.pydata.org/pandas-docs/stable/user_guide/indexing.html#returning-a-view-versus-a-copy\n",
      "  This is separate from the ipykernel package so we can avoid doing imports until\n"
     ]
    },
    {
     "data": {
      "text/html": [
       "<div>\n",
       "<style scoped>\n",
       "    .dataframe tbody tr th:only-of-type {\n",
       "        vertical-align: middle;\n",
       "    }\n",
       "\n",
       "    .dataframe tbody tr th {\n",
       "        vertical-align: top;\n",
       "    }\n",
       "\n",
       "    .dataframe thead th {\n",
       "        text-align: right;\n",
       "    }\n",
       "</style>\n",
       "<table border=\"1\" class=\"dataframe\">\n",
       "  <thead>\n",
       "    <tr style=\"text-align: right;\">\n",
       "      <th></th>\n",
       "      <th>YearsProgram</th>\n",
       "      <th>YearsCodedJob</th>\n",
       "      <th>Overpaid</th>\n",
       "      <th>CareerSatisfaction</th>\n",
       "      <th>JobSatisfaction</th>\n",
       "      <th>YearsCode_encoded</th>\n",
       "      <th>Overpaid_factor</th>\n",
       "    </tr>\n",
       "  </thead>\n",
       "  <tbody>\n",
       "    <tr>\n",
       "      <th>0</th>\n",
       "      <td>2 to 3 years</td>\n",
       "      <td>NaN</td>\n",
       "      <td>NaN</td>\n",
       "      <td>NaN</td>\n",
       "      <td>NaN</td>\n",
       "      <td>NaN</td>\n",
       "      <td>NaN</td>\n",
       "    </tr>\n",
       "    <tr>\n",
       "      <th>1</th>\n",
       "      <td>9 to 10 years</td>\n",
       "      <td>NaN</td>\n",
       "      <td>NaN</td>\n",
       "      <td>NaN</td>\n",
       "      <td>NaN</td>\n",
       "      <td>NaN</td>\n",
       "      <td>NaN</td>\n",
       "    </tr>\n",
       "    <tr>\n",
       "      <th>2</th>\n",
       "      <td>20 or more years</td>\n",
       "      <td>20 or more years</td>\n",
       "      <td>Neither underpaid nor overpaid</td>\n",
       "      <td>8.0</td>\n",
       "      <td>9.0</td>\n",
       "      <td>20</td>\n",
       "      <td>2.0</td>\n",
       "    </tr>\n",
       "    <tr>\n",
       "      <th>3</th>\n",
       "      <td>14 to 15 years</td>\n",
       "      <td>9 to 10 years</td>\n",
       "      <td>NaN</td>\n",
       "      <td>6.0</td>\n",
       "      <td>3.0</td>\n",
       "      <td>9</td>\n",
       "      <td>NaN</td>\n",
       "    </tr>\n",
       "    <tr>\n",
       "      <th>4</th>\n",
       "      <td>20 or more years</td>\n",
       "      <td>10 to 11 years</td>\n",
       "      <td>NaN</td>\n",
       "      <td>6.0</td>\n",
       "      <td>8.0</td>\n",
       "      <td>10</td>\n",
       "      <td>NaN</td>\n",
       "    </tr>\n",
       "    <tr>\n",
       "      <th>...</th>\n",
       "      <td>...</td>\n",
       "      <td>...</td>\n",
       "      <td>...</td>\n",
       "      <td>...</td>\n",
       "      <td>...</td>\n",
       "      <td>...</td>\n",
       "      <td>...</td>\n",
       "    </tr>\n",
       "    <tr>\n",
       "      <th>51387</th>\n",
       "      <td>6 to 7 years</td>\n",
       "      <td>1 to 2 years</td>\n",
       "      <td>Greatly underpaid</td>\n",
       "      <td>7.0</td>\n",
       "      <td>3.0</td>\n",
       "      <td>1</td>\n",
       "      <td>0.0</td>\n",
       "    </tr>\n",
       "    <tr>\n",
       "      <th>51388</th>\n",
       "      <td>2 to 3 years</td>\n",
       "      <td>NaN</td>\n",
       "      <td>NaN</td>\n",
       "      <td>NaN</td>\n",
       "      <td>NaN</td>\n",
       "      <td>NaN</td>\n",
       "      <td>NaN</td>\n",
       "    </tr>\n",
       "    <tr>\n",
       "      <th>51389</th>\n",
       "      <td>Less than a year</td>\n",
       "      <td>Less than a year</td>\n",
       "      <td>NaN</td>\n",
       "      <td>10.0</td>\n",
       "      <td>10.0</td>\n",
       "      <td>1</td>\n",
       "      <td>NaN</td>\n",
       "    </tr>\n",
       "    <tr>\n",
       "      <th>51390</th>\n",
       "      <td>17 to 18 years</td>\n",
       "      <td>3 to 4 years</td>\n",
       "      <td>Greatly underpaid</td>\n",
       "      <td>6.0</td>\n",
       "      <td>7.0</td>\n",
       "      <td>3</td>\n",
       "      <td>0.0</td>\n",
       "    </tr>\n",
       "    <tr>\n",
       "      <th>51391</th>\n",
       "      <td>14 to 15 years</td>\n",
       "      <td>5 to 6 years</td>\n",
       "      <td>NaN</td>\n",
       "      <td>8.0</td>\n",
       "      <td>8.0</td>\n",
       "      <td>5</td>\n",
       "      <td>NaN</td>\n",
       "    </tr>\n",
       "  </tbody>\n",
       "</table>\n",
       "<p>51392 rows × 7 columns</p>\n",
       "</div>"
      ],
      "text/plain": [
       "           YearsProgram     YearsCodedJob                        Overpaid  \\\n",
       "0          2 to 3 years               NaN                             NaN   \n",
       "1         9 to 10 years               NaN                             NaN   \n",
       "2      20 or more years  20 or more years  Neither underpaid nor overpaid   \n",
       "3        14 to 15 years     9 to 10 years                             NaN   \n",
       "4      20 or more years    10 to 11 years                             NaN   \n",
       "...                 ...               ...                             ...   \n",
       "51387      6 to 7 years      1 to 2 years               Greatly underpaid   \n",
       "51388      2 to 3 years               NaN                             NaN   \n",
       "51389  Less than a year  Less than a year                             NaN   \n",
       "51390    17 to 18 years      3 to 4 years               Greatly underpaid   \n",
       "51391    14 to 15 years      5 to 6 years                             NaN   \n",
       "\n",
       "       CareerSatisfaction  JobSatisfaction YearsCode_encoded  Overpaid_factor  \n",
       "0                     NaN              NaN               NaN              NaN  \n",
       "1                     NaN              NaN               NaN              NaN  \n",
       "2                     8.0              9.0                20              2.0  \n",
       "3                     6.0              3.0                 9              NaN  \n",
       "4                     6.0              8.0                10              NaN  \n",
       "...                   ...              ...               ...              ...  \n",
       "51387                 7.0              3.0                 1              0.0  \n",
       "51388                 NaN              NaN               NaN              NaN  \n",
       "51389                10.0             10.0                 1              NaN  \n",
       "51390                 6.0              7.0                 3              0.0  \n",
       "51391                 8.0              8.0                 5              NaN  \n",
       "\n",
       "[51392 rows x 7 columns]"
      ]
     },
     "execution_count": 198,
     "metadata": {},
     "output_type": "execute_result"
    }
   ],
   "source": [
    "encode_col(overpaid_dict, df_q2, 'Overpaid')"
   ]
  },
  {
   "cell_type": "code",
   "execution_count": 199,
   "metadata": {},
   "outputs": [
    {
     "data": {
      "text/html": [
       "<div>\n",
       "<style scoped>\n",
       "    .dataframe tbody tr th:only-of-type {\n",
       "        vertical-align: middle;\n",
       "    }\n",
       "\n",
       "    .dataframe tbody tr th {\n",
       "        vertical-align: top;\n",
       "    }\n",
       "\n",
       "    .dataframe thead th {\n",
       "        text-align: right;\n",
       "    }\n",
       "</style>\n",
       "<table border=\"1\" class=\"dataframe\">\n",
       "  <thead>\n",
       "    <tr style=\"text-align: right;\">\n",
       "      <th></th>\n",
       "      <th>YearsCode_encoded</th>\n",
       "      <th>Overpaid_factor</th>\n",
       "    </tr>\n",
       "  </thead>\n",
       "  <tbody>\n",
       "    <tr>\n",
       "      <th>2</th>\n",
       "      <td>20</td>\n",
       "      <td>2.0</td>\n",
       "    </tr>\n",
       "    <tr>\n",
       "      <th>8</th>\n",
       "      <td>7</td>\n",
       "      <td>2.0</td>\n",
       "    </tr>\n",
       "    <tr>\n",
       "      <th>14</th>\n",
       "      <td>20</td>\n",
       "      <td>1.0</td>\n",
       "    </tr>\n",
       "    <tr>\n",
       "      <th>17</th>\n",
       "      <td>20</td>\n",
       "      <td>2.0</td>\n",
       "    </tr>\n",
       "    <tr>\n",
       "      <th>18</th>\n",
       "      <td>3</td>\n",
       "      <td>3.0</td>\n",
       "    </tr>\n",
       "    <tr>\n",
       "      <th>...</th>\n",
       "      <td>...</td>\n",
       "      <td>...</td>\n",
       "    </tr>\n",
       "    <tr>\n",
       "      <th>51371</th>\n",
       "      <td>5</td>\n",
       "      <td>2.0</td>\n",
       "    </tr>\n",
       "    <tr>\n",
       "      <th>51378</th>\n",
       "      <td>5</td>\n",
       "      <td>2.0</td>\n",
       "    </tr>\n",
       "    <tr>\n",
       "      <th>51382</th>\n",
       "      <td>1</td>\n",
       "      <td>1.0</td>\n",
       "    </tr>\n",
       "    <tr>\n",
       "      <th>51387</th>\n",
       "      <td>1</td>\n",
       "      <td>0.0</td>\n",
       "    </tr>\n",
       "    <tr>\n",
       "      <th>51390</th>\n",
       "      <td>3</td>\n",
       "      <td>0.0</td>\n",
       "    </tr>\n",
       "  </tbody>\n",
       "</table>\n",
       "<p>13330 rows × 2 columns</p>\n",
       "</div>"
      ],
      "text/plain": [
       "      YearsCode_encoded  Overpaid_factor\n",
       "2                    20              2.0\n",
       "8                     7              2.0\n",
       "14                   20              1.0\n",
       "17                   20              2.0\n",
       "18                    3              3.0\n",
       "...                 ...              ...\n",
       "51371                 5              2.0\n",
       "51378                 5              2.0\n",
       "51382                 1              1.0\n",
       "51387                 1              0.0\n",
       "51390                 3              0.0\n",
       "\n",
       "[13330 rows x 2 columns]"
      ]
     },
     "execution_count": 199,
     "metadata": {},
     "output_type": "execute_result"
    }
   ],
   "source": [
    "overpaid_yearscode = df_q2[['YearsCode_encoded', 'Overpaid_factor']].dropna()\n",
    "overpaid_yearscode"
   ]
  },
  {
   "cell_type": "code",
   "execution_count": 200,
   "metadata": {},
   "outputs": [
    {
     "name": "stdout",
     "output_type": "stream",
     "text": [
      "<class 'pandas.core.frame.DataFrame'>\n",
      "Int64Index: 13330 entries, 2 to 51390\n",
      "Data columns (total 2 columns):\n",
      " #   Column             Non-Null Count  Dtype  \n",
      "---  ------             --------------  -----  \n",
      " 0   YearsCode_encoded  13330 non-null  object \n",
      " 1   Overpaid_factor    13330 non-null  float64\n",
      "dtypes: float64(1), object(1)\n",
      "memory usage: 312.4+ KB\n"
     ]
    }
   ],
   "source": [
    "overpaid_yearscode.info()"
   ]
  },
  {
   "cell_type": "code",
   "execution_count": 201,
   "metadata": {},
   "outputs": [],
   "source": [
    "overpaid_yearscode['YearsCode_encoded'] = overpaid_yearscode['YearsCode_encoded'].astype(float)"
   ]
  },
  {
   "cell_type": "code",
   "execution_count": 202,
   "metadata": {},
   "outputs": [
    {
     "data": {
      "text/html": [
       "<div>\n",
       "<style scoped>\n",
       "    .dataframe tbody tr th:only-of-type {\n",
       "        vertical-align: middle;\n",
       "    }\n",
       "\n",
       "    .dataframe tbody tr th {\n",
       "        vertical-align: top;\n",
       "    }\n",
       "\n",
       "    .dataframe thead th {\n",
       "        text-align: right;\n",
       "    }\n",
       "</style>\n",
       "<table border=\"1\" class=\"dataframe\">\n",
       "  <thead>\n",
       "    <tr style=\"text-align: right;\">\n",
       "      <th></th>\n",
       "      <th>YearsCode_encoded</th>\n",
       "      <th>Overpaid_factor</th>\n",
       "    </tr>\n",
       "  </thead>\n",
       "  <tbody>\n",
       "    <tr>\n",
       "      <th>YearsCode_encoded</th>\n",
       "      <td>1.000000</td>\n",
       "      <td>0.097708</td>\n",
       "    </tr>\n",
       "    <tr>\n",
       "      <th>Overpaid_factor</th>\n",
       "      <td>0.097708</td>\n",
       "      <td>1.000000</td>\n",
       "    </tr>\n",
       "  </tbody>\n",
       "</table>\n",
       "</div>"
      ],
      "text/plain": [
       "                   YearsCode_encoded  Overpaid_factor\n",
       "YearsCode_encoded           1.000000         0.097708\n",
       "Overpaid_factor             0.097708         1.000000"
      ]
     },
     "execution_count": 202,
     "metadata": {},
     "output_type": "execute_result"
    }
   ],
   "source": [
    "overpaid_yearscode.corr()"
   ]
  },
  {
   "cell_type": "code",
   "execution_count": 203,
   "metadata": {},
   "outputs": [
    {
     "data": {
      "image/png": "[encoded data removed]",
      "text/plain": [
       "<Figure size 432x288 with 1 Axes>"
      ]
     },
     "metadata": {
      "needs_background": "light"
     },
     "output_type": "display_data"
    }
   ],
   "source": [
    "overpaid_yearscode.plot.scatter(x='YearsCode_encoded', y='Overpaid_factor');"
   ]
  },
  {
   "cell_type": "markdown",
   "metadata": {},
   "source": [
    "### Q2 Answer: \n",
    "It is interesting to see there is no correlation between the years of code and {Overpaid or CareerSatisfaction}."
   ]
  },
  {
   "cell_type": "markdown",
   "metadata": {},
   "source": [
    "### Q3. What makes people satisfied with their job?"
   ]
  },
  {
   "cell_type": "code",
   "execution_count": 204,
   "metadata": {},
   "outputs": [
    {
     "data": {
      "text/plain": [
       "{'Agree',\n",
       " 'Disagree',\n",
       " 'Somewhat agree',\n",
       " 'Strongly agree',\n",
       " 'Strongly disagree',\n",
       " nan}"
      ]
     },
     "execution_count": 204,
     "metadata": {},
     "output_type": "execute_result"
    }
   ],
   "source": [
    "set(df['LearningNewTech'])"
   ]
  },
  {
   "cell_type": "code",
   "execution_count": 205,
   "metadata": {},
   "outputs": [],
   "source": [
    "newtech_dict = {'Agree': 3,\n",
    "                'Disagree': 1,\n",
    "                'Somewhat agree': 2,\n",
    "                'Strongly agree': 4,\n",
    "                'Strongly disagree': 0\n",
    "                }"
   ]
  },
  {
   "cell_type": "code",
   "execution_count": 206,
   "metadata": {},
   "outputs": [],
   "source": [
    "df_q3 = df[['LearningNewTech', 'CareerSatisfaction', 'BuildingThings']]"
   ]
  },
  {
   "cell_type": "code",
   "execution_count": 207,
   "metadata": {},
   "outputs": [
    {
     "name": "stderr",
     "output_type": "stream",
     "text": [
      "C:\\Users\\Sue\\anaconda3\\lib\\site-packages\\ipykernel_launcher.py:3: SettingWithCopyWarning: \n",
      "A value is trying to be set on a copy of a slice from a DataFrame.\n",
      "Try using .loc[row_indexer,col_indexer] = value instead\n",
      "\n",
      "See the caveats in the documentation: https://pandas.pydata.org/pandas-docs/stable/user_guide/indexing.html#returning-a-view-versus-a-copy\n",
      "  This is separate from the ipykernel package so we can avoid doing imports until\n"
     ]
    },
    {
     "data": {
      "text/html": [
       "<div>\n",
       "<style scoped>\n",
       "    .dataframe tbody tr th:only-of-type {\n",
       "        vertical-align: middle;\n",
       "    }\n",
       "\n",
       "    .dataframe tbody tr th {\n",
       "        vertical-align: top;\n",
       "    }\n",
       "\n",
       "    .dataframe thead th {\n",
       "        text-align: right;\n",
       "    }\n",
       "</style>\n",
       "<table border=\"1\" class=\"dataframe\">\n",
       "  <thead>\n",
       "    <tr style=\"text-align: right;\">\n",
       "      <th></th>\n",
       "      <th>LearningNewTech</th>\n",
       "      <th>CareerSatisfaction</th>\n",
       "      <th>BuildingThings</th>\n",
       "      <th>LearningNewTech_factor</th>\n",
       "    </tr>\n",
       "  </thead>\n",
       "  <tbody>\n",
       "    <tr>\n",
       "      <th>0</th>\n",
       "      <td>Agree</td>\n",
       "      <td>NaN</td>\n",
       "      <td>Strongly agree</td>\n",
       "      <td>3.0</td>\n",
       "    </tr>\n",
       "    <tr>\n",
       "      <th>1</th>\n",
       "      <td>NaN</td>\n",
       "      <td>NaN</td>\n",
       "      <td>NaN</td>\n",
       "      <td>NaN</td>\n",
       "    </tr>\n",
       "    <tr>\n",
       "      <th>2</th>\n",
       "      <td>Strongly agree</td>\n",
       "      <td>8.0</td>\n",
       "      <td>Strongly agree</td>\n",
       "      <td>4.0</td>\n",
       "    </tr>\n",
       "    <tr>\n",
       "      <th>3</th>\n",
       "      <td>Strongly agree</td>\n",
       "      <td>6.0</td>\n",
       "      <td>Strongly agree</td>\n",
       "      <td>4.0</td>\n",
       "    </tr>\n",
       "    <tr>\n",
       "      <th>4</th>\n",
       "      <td>NaN</td>\n",
       "      <td>6.0</td>\n",
       "      <td>NaN</td>\n",
       "      <td>NaN</td>\n",
       "    </tr>\n",
       "    <tr>\n",
       "      <th>...</th>\n",
       "      <td>...</td>\n",
       "      <td>...</td>\n",
       "      <td>...</td>\n",
       "      <td>...</td>\n",
       "    </tr>\n",
       "    <tr>\n",
       "      <th>51387</th>\n",
       "      <td>Strongly agree</td>\n",
       "      <td>7.0</td>\n",
       "      <td>Agree</td>\n",
       "      <td>4.0</td>\n",
       "    </tr>\n",
       "    <tr>\n",
       "      <th>51388</th>\n",
       "      <td>NaN</td>\n",
       "      <td>NaN</td>\n",
       "      <td>NaN</td>\n",
       "      <td>NaN</td>\n",
       "    </tr>\n",
       "    <tr>\n",
       "      <th>51389</th>\n",
       "      <td>NaN</td>\n",
       "      <td>10.0</td>\n",
       "      <td>NaN</td>\n",
       "      <td>NaN</td>\n",
       "    </tr>\n",
       "    <tr>\n",
       "      <th>51390</th>\n",
       "      <td>Strongly agree</td>\n",
       "      <td>6.0</td>\n",
       "      <td>Agree</td>\n",
       "      <td>4.0</td>\n",
       "    </tr>\n",
       "    <tr>\n",
       "      <th>51391</th>\n",
       "      <td>NaN</td>\n",
       "      <td>8.0</td>\n",
       "      <td>NaN</td>\n",
       "      <td>NaN</td>\n",
       "    </tr>\n",
       "  </tbody>\n",
       "</table>\n",
       "<p>51392 rows × 4 columns</p>\n",
       "</div>"
      ],
      "text/plain": [
       "      LearningNewTech  CareerSatisfaction  BuildingThings  \\\n",
       "0               Agree                 NaN  Strongly agree   \n",
       "1                 NaN                 NaN             NaN   \n",
       "2      Strongly agree                 8.0  Strongly agree   \n",
       "3      Strongly agree                 6.0  Strongly agree   \n",
       "4                 NaN                 6.0             NaN   \n",
       "...               ...                 ...             ...   \n",
       "51387  Strongly agree                 7.0           Agree   \n",
       "51388             NaN                 NaN             NaN   \n",
       "51389             NaN                10.0             NaN   \n",
       "51390  Strongly agree                 6.0           Agree   \n",
       "51391             NaN                 8.0             NaN   \n",
       "\n",
       "       LearningNewTech_factor  \n",
       "0                         3.0  \n",
       "1                         NaN  \n",
       "2                         4.0  \n",
       "3                         4.0  \n",
       "4                         NaN  \n",
       "...                       ...  \n",
       "51387                     4.0  \n",
       "51388                     NaN  \n",
       "51389                     NaN  \n",
       "51390                     4.0  \n",
       "51391                     NaN  \n",
       "\n",
       "[51392 rows x 4 columns]"
      ]
     },
     "execution_count": 207,
     "metadata": {},
     "output_type": "execute_result"
    }
   ],
   "source": [
    "encode_col(newtech_dict, df_q3, 'LearningNewTech')"
   ]
  },
  {
   "cell_type": "code",
   "execution_count": 208,
   "metadata": {},
   "outputs": [
    {
     "name": "stdout",
     "output_type": "stream",
     "text": [
      "<class 'pandas.core.frame.DataFrame'>\n",
      "RangeIndex: 51392 entries, 0 to 51391\n",
      "Data columns (total 4 columns):\n",
      " #   Column                  Non-Null Count  Dtype  \n",
      "---  ------                  --------------  -----  \n",
      " 0   LearningNewTech         31304 non-null  object \n",
      " 1   CareerSatisfaction      42695 non-null  float64\n",
      " 2   BuildingThings          31234 non-null  object \n",
      " 3   LearningNewTech_factor  31304 non-null  float64\n",
      "dtypes: float64(2), object(2)\n",
      "memory usage: 1.6+ MB\n"
     ]
    }
   ],
   "source": [
    "df_q3.info()"
   ]
  },
  {
   "cell_type": "code",
   "execution_count": 209,
   "metadata": {},
   "outputs": [
    {
     "data": {
      "text/html": [
       "<div>\n",
       "<style scoped>\n",
       "    .dataframe tbody tr th:only-of-type {\n",
       "        vertical-align: middle;\n",
       "    }\n",
       "\n",
       "    .dataframe tbody tr th {\n",
       "        vertical-align: top;\n",
       "    }\n",
       "\n",
       "    .dataframe thead th {\n",
       "        text-align: right;\n",
       "    }\n",
       "</style>\n",
       "<table border=\"1\" class=\"dataframe\">\n",
       "  <thead>\n",
       "    <tr style=\"text-align: right;\">\n",
       "      <th></th>\n",
       "      <th>CareerSatisfaction</th>\n",
       "      <th>LearningNewTech_factor</th>\n",
       "    </tr>\n",
       "  </thead>\n",
       "  <tbody>\n",
       "    <tr>\n",
       "      <th>CareerSatisfaction</th>\n",
       "      <td>1.000000</td>\n",
       "      <td>0.124269</td>\n",
       "    </tr>\n",
       "    <tr>\n",
       "      <th>LearningNewTech_factor</th>\n",
       "      <td>0.124269</td>\n",
       "      <td>1.000000</td>\n",
       "    </tr>\n",
       "  </tbody>\n",
       "</table>\n",
       "</div>"
      ],
      "text/plain": [
       "                        CareerSatisfaction  LearningNewTech_factor\n",
       "CareerSatisfaction                1.000000                0.124269\n",
       "LearningNewTech_factor            0.124269                1.000000"
      ]
     },
     "execution_count": 209,
     "metadata": {},
     "output_type": "execute_result"
    }
   ],
   "source": [
    "careersatisfaction_newtech = df_q3[['CareerSatisfaction', 'LearningNewTech_factor']]\n",
    "careersatisfaction_newtech.corr()"
   ]
  },
  {
   "cell_type": "code",
   "execution_count": 210,
   "metadata": {},
   "outputs": [
    {
     "data": {
      "image/png": "[encoded data removed]",
      "text/plain": [
       "<Figure size 432x288 with 1 Axes>"
      ]
     },
     "metadata": {
      "needs_background": "light"
     },
     "output_type": "display_data"
    }
   ],
   "source": [
    "careersatisfaction_newtech.plot.scatter(x='CareerSatisfaction', y='LearningNewTech_factor');"
   ]
  },
  {
   "cell_type": "code",
   "execution_count": 211,
   "metadata": {},
   "outputs": [
    {
     "data": {
      "text/plain": [
       "{'Agree',\n",
       " 'Disagree',\n",
       " 'Somewhat agree',\n",
       " 'Strongly agree',\n",
       " 'Strongly disagree',\n",
       " nan}"
      ]
     },
     "execution_count": 211,
     "metadata": {},
     "output_type": "execute_result"
    }
   ],
   "source": [
    "set(df['BuildingThings'])"
   ]
  },
  {
   "cell_type": "code",
   "execution_count": 212,
   "metadata": {},
   "outputs": [
    {
     "name": "stderr",
     "output_type": "stream",
     "text": [
      "C:\\Users\\Sue\\anaconda3\\lib\\site-packages\\ipykernel_launcher.py:3: SettingWithCopyWarning: \n",
      "A value is trying to be set on a copy of a slice from a DataFrame.\n",
      "Try using .loc[row_indexer,col_indexer] = value instead\n",
      "\n",
      "See the caveats in the documentation: https://pandas.pydata.org/pandas-docs/stable/user_guide/indexing.html#returning-a-view-versus-a-copy\n",
      "  This is separate from the ipykernel package so we can avoid doing imports until\n"
     ]
    },
    {
     "data": {
      "text/html": [
       "<div>\n",
       "<style scoped>\n",
       "    .dataframe tbody tr th:only-of-type {\n",
       "        vertical-align: middle;\n",
       "    }\n",
       "\n",
       "    .dataframe tbody tr th {\n",
       "        vertical-align: top;\n",
       "    }\n",
       "\n",
       "    .dataframe thead th {\n",
       "        text-align: right;\n",
       "    }\n",
       "</style>\n",
       "<table border=\"1\" class=\"dataframe\">\n",
       "  <thead>\n",
       "    <tr style=\"text-align: right;\">\n",
       "      <th></th>\n",
       "      <th>LearningNewTech</th>\n",
       "      <th>CareerSatisfaction</th>\n",
       "      <th>BuildingThings</th>\n",
       "      <th>LearningNewTech_factor</th>\n",
       "      <th>BuildingThings_factor</th>\n",
       "    </tr>\n",
       "  </thead>\n",
       "  <tbody>\n",
       "    <tr>\n",
       "      <th>0</th>\n",
       "      <td>Agree</td>\n",
       "      <td>NaN</td>\n",
       "      <td>Strongly agree</td>\n",
       "      <td>3.0</td>\n",
       "      <td>4.0</td>\n",
       "    </tr>\n",
       "    <tr>\n",
       "      <th>1</th>\n",
       "      <td>NaN</td>\n",
       "      <td>NaN</td>\n",
       "      <td>NaN</td>\n",
       "      <td>NaN</td>\n",
       "      <td>NaN</td>\n",
       "    </tr>\n",
       "    <tr>\n",
       "      <th>2</th>\n",
       "      <td>Strongly agree</td>\n",
       "      <td>8.0</td>\n",
       "      <td>Strongly agree</td>\n",
       "      <td>4.0</td>\n",
       "      <td>4.0</td>\n",
       "    </tr>\n",
       "    <tr>\n",
       "      <th>3</th>\n",
       "      <td>Strongly agree</td>\n",
       "      <td>6.0</td>\n",
       "      <td>Strongly agree</td>\n",
       "      <td>4.0</td>\n",
       "      <td>4.0</td>\n",
       "    </tr>\n",
       "    <tr>\n",
       "      <th>4</th>\n",
       "      <td>NaN</td>\n",
       "      <td>6.0</td>\n",
       "      <td>NaN</td>\n",
       "      <td>NaN</td>\n",
       "      <td>NaN</td>\n",
       "    </tr>\n",
       "    <tr>\n",
       "      <th>...</th>\n",
       "      <td>...</td>\n",
       "      <td>...</td>\n",
       "      <td>...</td>\n",
       "      <td>...</td>\n",
       "      <td>...</td>\n",
       "    </tr>\n",
       "    <tr>\n",
       "      <th>51387</th>\n",
       "      <td>Strongly agree</td>\n",
       "      <td>7.0</td>\n",
       "      <td>Agree</td>\n",
       "      <td>4.0</td>\n",
       "      <td>3.0</td>\n",
       "    </tr>\n",
       "    <tr>\n",
       "      <th>51388</th>\n",
       "      <td>NaN</td>\n",
       "      <td>NaN</td>\n",
       "      <td>NaN</td>\n",
       "      <td>NaN</td>\n",
       "      <td>NaN</td>\n",
       "    </tr>\n",
       "    <tr>\n",
       "      <th>51389</th>\n",
       "      <td>NaN</td>\n",
       "      <td>10.0</td>\n",
       "      <td>NaN</td>\n",
       "      <td>NaN</td>\n",
       "      <td>NaN</td>\n",
       "    </tr>\n",
       "    <tr>\n",
       "      <th>51390</th>\n",
       "      <td>Strongly agree</td>\n",
       "      <td>6.0</td>\n",
       "      <td>Agree</td>\n",
       "      <td>4.0</td>\n",
       "      <td>3.0</td>\n",
       "    </tr>\n",
       "    <tr>\n",
       "      <th>51391</th>\n",
       "      <td>NaN</td>\n",
       "      <td>8.0</td>\n",
       "      <td>NaN</td>\n",
       "      <td>NaN</td>\n",
       "      <td>NaN</td>\n",
       "    </tr>\n",
       "  </tbody>\n",
       "</table>\n",
       "<p>51392 rows × 5 columns</p>\n",
       "</div>"
      ],
      "text/plain": [
       "      LearningNewTech  CareerSatisfaction  BuildingThings  \\\n",
       "0               Agree                 NaN  Strongly agree   \n",
       "1                 NaN                 NaN             NaN   \n",
       "2      Strongly agree                 8.0  Strongly agree   \n",
       "3      Strongly agree                 6.0  Strongly agree   \n",
       "4                 NaN                 6.0             NaN   \n",
       "...               ...                 ...             ...   \n",
       "51387  Strongly agree                 7.0           Agree   \n",
       "51388             NaN                 NaN             NaN   \n",
       "51389             NaN                10.0             NaN   \n",
       "51390  Strongly agree                 6.0           Agree   \n",
       "51391             NaN                 8.0             NaN   \n",
       "\n",
       "       LearningNewTech_factor  BuildingThings_factor  \n",
       "0                         3.0                    4.0  \n",
       "1                         NaN                    NaN  \n",
       "2                         4.0                    4.0  \n",
       "3                         4.0                    4.0  \n",
       "4                         NaN                    NaN  \n",
       "...                       ...                    ...  \n",
       "51387                     4.0                    3.0  \n",
       "51388                     NaN                    NaN  \n",
       "51389                     NaN                    NaN  \n",
       "51390                     4.0                    3.0  \n",
       "51391                     NaN                    NaN  \n",
       "\n",
       "[51392 rows x 5 columns]"
      ]
     },
     "execution_count": 212,
     "metadata": {},
     "output_type": "execute_result"
    }
   ],
   "source": [
    "encode_col(newtech_dict, df_q3, 'BuildingThings')"
   ]
  },
  {
   "cell_type": "code",
   "execution_count": 213,
   "metadata": {},
   "outputs": [],
   "source": [
    "career_building = df_q3[['CareerSatisfaction', 'BuildingThings_factor']]"
   ]
  },
  {
   "cell_type": "code",
   "execution_count": 214,
   "metadata": {},
   "outputs": [
    {
     "data": {
      "text/html": [
       "<div>\n",
       "<style scoped>\n",
       "    .dataframe tbody tr th:only-of-type {\n",
       "        vertical-align: middle;\n",
       "    }\n",
       "\n",
       "    .dataframe tbody tr th {\n",
       "        vertical-align: top;\n",
       "    }\n",
       "\n",
       "    .dataframe thead th {\n",
       "        text-align: right;\n",
       "    }\n",
       "</style>\n",
       "<table border=\"1\" class=\"dataframe\">\n",
       "  <thead>\n",
       "    <tr style=\"text-align: right;\">\n",
       "      <th></th>\n",
       "      <th>CareerSatisfaction</th>\n",
       "      <th>BuildingThings_factor</th>\n",
       "    </tr>\n",
       "  </thead>\n",
       "  <tbody>\n",
       "    <tr>\n",
       "      <th>CareerSatisfaction</th>\n",
       "      <td>1.000000</td>\n",
       "      <td>0.167563</td>\n",
       "    </tr>\n",
       "    <tr>\n",
       "      <th>BuildingThings_factor</th>\n",
       "      <td>0.167563</td>\n",
       "      <td>1.000000</td>\n",
       "    </tr>\n",
       "  </tbody>\n",
       "</table>\n",
       "</div>"
      ],
      "text/plain": [
       "                       CareerSatisfaction  BuildingThings_factor\n",
       "CareerSatisfaction               1.000000               0.167563\n",
       "BuildingThings_factor            0.167563               1.000000"
      ]
     },
     "execution_count": 214,
     "metadata": {},
     "output_type": "execute_result"
    }
   ],
   "source": [
    "career_building.corr()"
   ]
  },
  {
   "cell_type": "markdown",
   "metadata": {},
   "source": [
    "### Q3 Answer: \n",
    "Although the correlation between Career Satisfaction and Buidling Things do not show a significant correlationship, the correlation value is the highest among what we have overserved so far. It seems the career satisfaction come from self active mind rather than the outer conditions such as salary, job proficiency, or education."
   ]
  },
  {
   "cell_type": "code",
   "execution_count": null,
   "metadata": {},
   "outputs": [],
   "source": []
  }
 ],
 "metadata": {
  "kernelspec": {
   "display_name": "Python 3",
   "language": "python",
   "name": "python3"
  },
  "language_info": {
   "codemirror_mode": {
    "name": "ipython",
    "version": 3
   },
   "file_extension": ".py",
   "mimetype": "text/x-python",
   "name": "python",
   "nbconvert_exporter": "python",
   "pygments_lexer": "ipython3",
   "version": "3.7.6"
  }
 },
 "nbformat": 4,
 "nbformat_minor": 4
}
